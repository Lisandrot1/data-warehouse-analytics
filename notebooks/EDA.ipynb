{
 "cells": [
  {
   "cell_type": "markdown",
   "id": "054bf004",
   "metadata": {},
   "source": [
    "# Análisis Exploratorio de Datos (EDA)"
   ]
  },
  {
   "cell_type": "markdown",
   "id": "9d65d9fd",
   "metadata": {},
   "source": [
    "## Importación de librerías y carga de datos"
   ]
  },
  {
   "cell_type": "code",
   "execution_count": 9,
   "id": "5381b3d0",
   "metadata": {},
   "outputs": [],
   "source": [
    "import pandas as pd\n",
    "import matplotlib.pyplot as plt\n",
    "%matplotlib inline\n",
    "\n",
    "df = pd.read_csv('../data/covid_bucaramanga.csv')\n"
   ]
  },
  {
   "cell_type": "markdown",
   "id": "d87cce7a",
   "metadata": {},
   "source": [
    "## Verificar si hay valores vacíos y nulos dentro del dataset\n",
    "\n",
    "Antes de analizar los datos, es importante revisar si existen valores nulos o vacíos en el dataset, ya que pueden afectar el análisis posterior. Además, observaremos los tipos de datos de cada columna para asegurarnos de que sean los adecuados para el análisis.\n",
    "\n",
    "A continuación, se muestra una vista previa del DataFrame, junto con el conteo de valores nulos y el tipo de dato de cada columna."
   ]
  },
  {
   "cell_type": "code",
   "execution_count": 10,
   "id": "0c801936",
   "metadata": {},
   "outputs": [
    {
     "name": "stdout",
     "output_type": "stream",
     "text": [
      "<class 'pandas.core.frame.DataFrame'>\n",
      "RangeIndex: 141493 entries, 0 to 141492\n",
      "Data columns (total 17 columns):\n",
      " #   Column               Non-Null Count   Dtype \n",
      "---  ------               --------------   ----- \n",
      " 0   fec_not              141493 non-null  object\n",
      " 1   semana               141493 non-null  int64 \n",
      " 2   año                  141493 non-null  int64 \n",
      " 3   edad_                141493 non-null  int64 \n",
      " 4   uni_med_             141493 non-null  int64 \n",
      " 5   unidedad             141493 non-null  int64 \n",
      " 6   Grupo_etario         141493 non-null  object\n",
      " 7   Ciclo_de_vida        141493 non-null  object\n",
      " 8   nombre_nacionalidad  141493 non-null  object\n",
      " 9   sexo_                141493 non-null  object\n",
      " 10  bar_ver_             141493 non-null  object\n",
      " 11  COMUNA               141493 non-null  object\n",
      " 12  tip_ss_              141493 non-null  object\n",
      " 13  NOMBRE EPS           141493 non-null  object\n",
      " 14  serv_hosp            141493 non-null  int64 \n",
      " 15  desc_serv_hosp       141493 non-null  object\n",
      " 16  orden                141493 non-null  int64 \n",
      "dtypes: int64(7), object(10)\n",
      "memory usage: 18.4+ MB\n"
     ]
    }
   ],
   "source": [
    "df.info()"
   ]
  },
  {
   "cell_type": "markdown",
   "id": "53b8ec86",
   "metadata": {},
   "source": [
    "## Transformar Datos (Cambiar a minúsculas los nombres de las columnas y cambiar el formato de `fec_not` a fecha)\n",
    "\n",
    "Para facilitar el análisis y evitar errores por diferencias en mayúsculas/minúsculas, convertimos todos los nombres de las columnas a minúsculas. Además, transformamos la columna `fec_not` al formato de fecha para poder realizar análisis temporales de manera adecuada."
   ]
  },
  {
   "cell_type": "code",
   "execution_count": 11,
   "id": "85251afc",
   "metadata": {},
   "outputs": [
    {
     "data": {
      "text/html": [
       "<div>\n",
       "<style scoped>\n",
       "    .dataframe tbody tr th:only-of-type {\n",
       "        vertical-align: middle;\n",
       "    }\n",
       "\n",
       "    .dataframe tbody tr th {\n",
       "        vertical-align: top;\n",
       "    }\n",
       "\n",
       "    .dataframe thead th {\n",
       "        text-align: right;\n",
       "    }\n",
       "</style>\n",
       "<table border=\"1\" class=\"dataframe\">\n",
       "  <thead>\n",
       "    <tr style=\"text-align: right;\">\n",
       "      <th></th>\n",
       "      <th>fec_not</th>\n",
       "      <th>semana</th>\n",
       "      <th>año</th>\n",
       "      <th>edad_</th>\n",
       "      <th>uni_med_</th>\n",
       "      <th>unidedad</th>\n",
       "      <th>grupo_etario</th>\n",
       "      <th>ciclo_de_vida</th>\n",
       "      <th>nombre_nacionalidad</th>\n",
       "      <th>sexo_</th>\n",
       "      <th>bar_ver_</th>\n",
       "      <th>comuna</th>\n",
       "      <th>tip_ss_</th>\n",
       "      <th>nombre eps</th>\n",
       "      <th>serv_hosp</th>\n",
       "      <th>desc_serv_hosp</th>\n",
       "      <th>orden</th>\n",
       "    </tr>\n",
       "  </thead>\n",
       "  <tbody>\n",
       "    <tr>\n",
       "      <th>0</th>\n",
       "      <td>2022-01-19</td>\n",
       "      <td>3</td>\n",
       "      <td>2022</td>\n",
       "      <td>20</td>\n",
       "      <td>1</td>\n",
       "      <td>120</td>\n",
       "      <td>20 A 29</td>\n",
       "      <td>JOVENES</td>\n",
       "      <td>NO DISPONIBLE</td>\n",
       "      <td>F</td>\n",
       "      <td>MUTUALIDAD</td>\n",
       "      <td>03. SAN FRANCISCO</td>\n",
       "      <td>I</td>\n",
       "      <td>INDETERMINADO</td>\n",
       "      <td>4</td>\n",
       "      <td>RECUPERADO</td>\n",
       "      <td>1</td>\n",
       "    </tr>\n",
       "    <tr>\n",
       "      <th>1</th>\n",
       "      <td>2021-02-07</td>\n",
       "      <td>28</td>\n",
       "      <td>2021</td>\n",
       "      <td>21</td>\n",
       "      <td>1</td>\n",
       "      <td>121</td>\n",
       "      <td>20 A 29</td>\n",
       "      <td>JOVENES</td>\n",
       "      <td>NO DISPONIBLE</td>\n",
       "      <td>F</td>\n",
       "      <td>SAN FRANCISCO</td>\n",
       "      <td>03. SAN FRANCISCO</td>\n",
       "      <td>I</td>\n",
       "      <td>INDETERMINADO</td>\n",
       "      <td>4</td>\n",
       "      <td>RECUPERADO</td>\n",
       "      <td>2</td>\n",
       "    </tr>\n",
       "    <tr>\n",
       "      <th>2</th>\n",
       "      <td>2021-05-06</td>\n",
       "      <td>25</td>\n",
       "      <td>2021</td>\n",
       "      <td>19</td>\n",
       "      <td>1</td>\n",
       "      <td>119</td>\n",
       "      <td>15 A 19</td>\n",
       "      <td>JOVENES</td>\n",
       "      <td>NO DISPONIBLE</td>\n",
       "      <td>F</td>\n",
       "      <td>MUTIS</td>\n",
       "      <td>17. MUTIS</td>\n",
       "      <td>I</td>\n",
       "      <td>INDETERMINADO</td>\n",
       "      <td>4</td>\n",
       "      <td>RECUPERADO</td>\n",
       "      <td>3</td>\n",
       "    </tr>\n",
       "    <tr>\n",
       "      <th>3</th>\n",
       "      <td>2021-07-23</td>\n",
       "      <td>32</td>\n",
       "      <td>2021</td>\n",
       "      <td>21</td>\n",
       "      <td>1</td>\n",
       "      <td>121</td>\n",
       "      <td>20 A 29</td>\n",
       "      <td>JOVENES</td>\n",
       "      <td>NO DISPONIBLE</td>\n",
       "      <td>M</td>\n",
       "      <td>TRANSICION I</td>\n",
       "      <td>02. NORORIENTAL</td>\n",
       "      <td>I</td>\n",
       "      <td>INDETERMINADO</td>\n",
       "      <td>4</td>\n",
       "      <td>RECUPERADO</td>\n",
       "      <td>4</td>\n",
       "    </tr>\n",
       "    <tr>\n",
       "      <th>4</th>\n",
       "      <td>2022-10-21</td>\n",
       "      <td>43</td>\n",
       "      <td>2022</td>\n",
       "      <td>19</td>\n",
       "      <td>1</td>\n",
       "      <td>119</td>\n",
       "      <td>15 A 19</td>\n",
       "      <td>JOVENES</td>\n",
       "      <td>NO DISPONIBLE</td>\n",
       "      <td>F</td>\n",
       "      <td>NO DISPONIBLE</td>\n",
       "      <td>NO DISPONIBLE</td>\n",
       "      <td>I</td>\n",
       "      <td>INDETERMINADO</td>\n",
       "      <td>4</td>\n",
       "      <td>RECUPERADO</td>\n",
       "      <td>5</td>\n",
       "    </tr>\n",
       "  </tbody>\n",
       "</table>\n",
       "</div>"
      ],
      "text/plain": [
       "     fec_not  semana   año  edad_  uni_med_  unidedad grupo_etario  \\\n",
       "0 2022-01-19       3  2022     20         1       120      20 A 29   \n",
       "1 2021-02-07      28  2021     21         1       121      20 A 29   \n",
       "2 2021-05-06      25  2021     19         1       119      15 A 19   \n",
       "3 2021-07-23      32  2021     21         1       121      20 A 29   \n",
       "4 2022-10-21      43  2022     19         1       119      15 A 19   \n",
       "\n",
       "  ciclo_de_vida nombre_nacionalidad sexo_       bar_ver_             comuna  \\\n",
       "0       JOVENES       NO DISPONIBLE     F     MUTUALIDAD  03. SAN FRANCISCO   \n",
       "1       JOVENES       NO DISPONIBLE     F  SAN FRANCISCO  03. SAN FRANCISCO   \n",
       "2       JOVENES       NO DISPONIBLE     F          MUTIS          17. MUTIS   \n",
       "3       JOVENES       NO DISPONIBLE     M   TRANSICION I    02. NORORIENTAL   \n",
       "4       JOVENES       NO DISPONIBLE     F  NO DISPONIBLE      NO DISPONIBLE   \n",
       "\n",
       "  tip_ss_     nombre eps  serv_hosp desc_serv_hosp  orden  \n",
       "0       I  INDETERMINADO          4     RECUPERADO      1  \n",
       "1       I  INDETERMINADO          4     RECUPERADO      2  \n",
       "2       I  INDETERMINADO          4     RECUPERADO      3  \n",
       "3       I  INDETERMINADO          4     RECUPERADO      4  \n",
       "4       I  INDETERMINADO          4     RECUPERADO      5  "
      ]
     },
     "execution_count": 11,
     "metadata": {},
     "output_type": "execute_result"
    }
   ],
   "source": [
    "df.columns = df.columns.str.lower()\n",
    "df['fec_not'] = pd.to_datetime(df['fec_not'])\n",
    "df.head(5)\n"
   ]
  },
  {
   "cell_type": "markdown",
   "id": "f7b0c865",
   "metadata": {},
   "source": [
    "## Eliminar columnas irrelevantes\n",
    "\n",
    "Identificamos que existe una columna en la que todos los valores son 'No Disponible'. Esta columna no aporta información útil para el análisis, por lo que se elimina para evitar ruido en los datos."
   ]
  },
  {
   "cell_type": "code",
   "execution_count": null,
   "id": "42e0a134",
   "metadata": {},
   "outputs": [
    {
     "data": {
      "text/html": [
       "<div>\n",
       "<style scoped>\n",
       "    .dataframe tbody tr th:only-of-type {\n",
       "        vertical-align: middle;\n",
       "    }\n",
       "\n",
       "    .dataframe tbody tr th {\n",
       "        vertical-align: top;\n",
       "    }\n",
       "\n",
       "    .dataframe thead th {\n",
       "        text-align: right;\n",
       "    }\n",
       "</style>\n",
       "<table border=\"1\" class=\"dataframe\">\n",
       "  <thead>\n",
       "    <tr style=\"text-align: right;\">\n",
       "      <th></th>\n",
       "      <th>fec_not</th>\n",
       "      <th>semana</th>\n",
       "      <th>año</th>\n",
       "      <th>edad_</th>\n",
       "      <th>uni_med_</th>\n",
       "      <th>unidedad</th>\n",
       "      <th>grupo_etario</th>\n",
       "      <th>ciclo_de_vida</th>\n",
       "      <th>sexo_</th>\n",
       "      <th>bar_ver_</th>\n",
       "      <th>comuna</th>\n",
       "      <th>tip_ss_</th>\n",
       "      <th>nombre eps</th>\n",
       "      <th>serv_hosp</th>\n",
       "      <th>desc_serv_hosp</th>\n",
       "      <th>orden</th>\n",
       "    </tr>\n",
       "  </thead>\n",
       "  <tbody>\n",
       "    <tr>\n",
       "      <th>0</th>\n",
       "      <td>2022-01-19</td>\n",
       "      <td>3</td>\n",
       "      <td>2022</td>\n",
       "      <td>20</td>\n",
       "      <td>1</td>\n",
       "      <td>120</td>\n",
       "      <td>20 A 29</td>\n",
       "      <td>JOVENES</td>\n",
       "      <td>F</td>\n",
       "      <td>MUTUALIDAD</td>\n",
       "      <td>03. SAN FRANCISCO</td>\n",
       "      <td>I</td>\n",
       "      <td>INDETERMINADO</td>\n",
       "      <td>4</td>\n",
       "      <td>RECUPERADO</td>\n",
       "      <td>1</td>\n",
       "    </tr>\n",
       "    <tr>\n",
       "      <th>1</th>\n",
       "      <td>2021-02-07</td>\n",
       "      <td>28</td>\n",
       "      <td>2021</td>\n",
       "      <td>21</td>\n",
       "      <td>1</td>\n",
       "      <td>121</td>\n",
       "      <td>20 A 29</td>\n",
       "      <td>JOVENES</td>\n",
       "      <td>F</td>\n",
       "      <td>SAN FRANCISCO</td>\n",
       "      <td>03. SAN FRANCISCO</td>\n",
       "      <td>I</td>\n",
       "      <td>INDETERMINADO</td>\n",
       "      <td>4</td>\n",
       "      <td>RECUPERADO</td>\n",
       "      <td>2</td>\n",
       "    </tr>\n",
       "    <tr>\n",
       "      <th>2</th>\n",
       "      <td>2021-05-06</td>\n",
       "      <td>25</td>\n",
       "      <td>2021</td>\n",
       "      <td>19</td>\n",
       "      <td>1</td>\n",
       "      <td>119</td>\n",
       "      <td>15 A 19</td>\n",
       "      <td>JOVENES</td>\n",
       "      <td>F</td>\n",
       "      <td>MUTIS</td>\n",
       "      <td>17. MUTIS</td>\n",
       "      <td>I</td>\n",
       "      <td>INDETERMINADO</td>\n",
       "      <td>4</td>\n",
       "      <td>RECUPERADO</td>\n",
       "      <td>3</td>\n",
       "    </tr>\n",
       "    <tr>\n",
       "      <th>3</th>\n",
       "      <td>2021-07-23</td>\n",
       "      <td>32</td>\n",
       "      <td>2021</td>\n",
       "      <td>21</td>\n",
       "      <td>1</td>\n",
       "      <td>121</td>\n",
       "      <td>20 A 29</td>\n",
       "      <td>JOVENES</td>\n",
       "      <td>M</td>\n",
       "      <td>TRANSICION I</td>\n",
       "      <td>02. NORORIENTAL</td>\n",
       "      <td>I</td>\n",
       "      <td>INDETERMINADO</td>\n",
       "      <td>4</td>\n",
       "      <td>RECUPERADO</td>\n",
       "      <td>4</td>\n",
       "    </tr>\n",
       "    <tr>\n",
       "      <th>4</th>\n",
       "      <td>2022-10-21</td>\n",
       "      <td>43</td>\n",
       "      <td>2022</td>\n",
       "      <td>19</td>\n",
       "      <td>1</td>\n",
       "      <td>119</td>\n",
       "      <td>15 A 19</td>\n",
       "      <td>JOVENES</td>\n",
       "      <td>F</td>\n",
       "      <td>NO DISPONIBLE</td>\n",
       "      <td>NO DISPONIBLE</td>\n",
       "      <td>I</td>\n",
       "      <td>INDETERMINADO</td>\n",
       "      <td>4</td>\n",
       "      <td>RECUPERADO</td>\n",
       "      <td>5</td>\n",
       "    </tr>\n",
       "  </tbody>\n",
       "</table>\n",
       "</div>"
      ],
      "text/plain": [
       "     fec_not  semana   año  edad_  uni_med_  unidedad grupo_etario  \\\n",
       "0 2022-01-19       3  2022     20         1       120      20 A 29   \n",
       "1 2021-02-07      28  2021     21         1       121      20 A 29   \n",
       "2 2021-05-06      25  2021     19         1       119      15 A 19   \n",
       "3 2021-07-23      32  2021     21         1       121      20 A 29   \n",
       "4 2022-10-21      43  2022     19         1       119      15 A 19   \n",
       "\n",
       "  ciclo_de_vida sexo_       bar_ver_             comuna tip_ss_  \\\n",
       "0       JOVENES     F     MUTUALIDAD  03. SAN FRANCISCO       I   \n",
       "1       JOVENES     F  SAN FRANCISCO  03. SAN FRANCISCO       I   \n",
       "2       JOVENES     F          MUTIS          17. MUTIS       I   \n",
       "3       JOVENES     M   TRANSICION I    02. NORORIENTAL       I   \n",
       "4       JOVENES     F  NO DISPONIBLE      NO DISPONIBLE       I   \n",
       "\n",
       "      nombre eps  serv_hosp desc_serv_hosp  orden  \n",
       "0  INDETERMINADO          4     RECUPERADO      1  \n",
       "1  INDETERMINADO          4     RECUPERADO      2  \n",
       "2  INDETERMINADO          4     RECUPERADO      3  \n",
       "3  INDETERMINADO          4     RECUPERADO      4  \n",
       "4  INDETERMINADO          4     RECUPERADO      5  "
      ]
     },
     "execution_count": 14,
     "metadata": {},
     "output_type": "execute_result"
    }
   ],
   "source": [
    "#df = df.drop(columns='nombre_nacionalidad')\n",
    "df.head(5)"
   ]
  },
  {
   "cell_type": "markdown",
   "id": "784ad0fc",
   "metadata": {},
   "source": [
    "## Análisis Exploratorio de Datos (EDA)\n",
    "\n",
    "En esta etapa se exploran y analizan las características principales del dataset mediante estadísticas descriptivas y visualizaciones. El objetivo es comprender la estructura de los datos, identificar patrones, tendencias, valores atípicos y posibles problemas de calidad que puedan influir en el"
   ]
  },
  {
   "cell_type": "markdown",
   "id": "dd19c89f",
   "metadata": {},
   "source": [
    "### Análisis de la variable `edad`\n",
    "\n",
    "La variable `edad` representa la edad de cada caso reportado en el dataset. Analizar su distribución permite identificar los grupos etarios más afectados, detectar posibles valores atípicos y comprender mejor el comportamiento de la pandemia según la edad de los individuos. Esta información es clave para orientar estrategias de prevención y"
   ]
  },
  {
   "cell_type": "markdown",
   "id": "4e847248",
   "metadata": {},
   "source": [
    "### Tratamiento de outliers en la variable \"edad\"\n",
    "Se detectaron 87 registros con valor `0` en la columna `edad`. \n",
    "De acuerdo con el cliente (Secretaría de Salud), estos registros no representan casos reales de recién nacidos, \n",
    "sino errores de digitación o valores faltantes.  \n",
    "\n",
    "**Acción tomada:** Se reclasifican como \"sin dato\" para no distorsionar el análisis de la distribución etaria."
   ]
  },
  {
   "cell_type": "code",
   "execution_count": null,
   "id": "bb67e8f9",
   "metadata": {},
   "outputs": [
    {
     "data": {
      "text/html": [
       "<div>\n",
       "<style scoped>\n",
       "    .dataframe tbody tr th:only-of-type {\n",
       "        vertical-align: middle;\n",
       "    }\n",
       "\n",
       "    .dataframe tbody tr th {\n",
       "        vertical-align: top;\n",
       "    }\n",
       "\n",
       "    .dataframe thead th {\n",
       "        text-align: right;\n",
       "    }\n",
       "</style>\n",
       "<table border=\"1\" class=\"dataframe\">\n",
       "  <thead>\n",
       "    <tr style=\"text-align: right;\">\n",
       "      <th></th>\n",
       "      <th>fec_not</th>\n",
       "      <th>semana</th>\n",
       "      <th>año</th>\n",
       "      <th>edad_</th>\n",
       "      <th>uni_med_</th>\n",
       "      <th>unidedad</th>\n",
       "      <th>grupo_etario</th>\n",
       "      <th>ciclo_de_vida</th>\n",
       "      <th>sexo_</th>\n",
       "      <th>bar_ver_</th>\n",
       "      <th>comuna</th>\n",
       "      <th>tip_ss_</th>\n",
       "      <th>nombre eps</th>\n",
       "      <th>serv_hosp</th>\n",
       "      <th>desc_serv_hosp</th>\n",
       "      <th>orden</th>\n",
       "    </tr>\n",
       "  </thead>\n",
       "  <tbody>\n",
       "  </tbody>\n",
       "</table>\n",
       "</div>"
      ],
      "text/plain": [
       "Empty DataFrame\n",
       "Columns: [fec_not, semana, año, edad_, uni_med_, unidedad, grupo_etario, ciclo_de_vida, sexo_, bar_ver_, comuna, tip_ss_, nombre eps, serv_hosp, desc_serv_hosp, orden]\n",
       "Index: []"
      ]
     },
     "execution_count": 31,
     "metadata": {},
     "output_type": "execute_result"
    }
   ],
   "source": [
    "# Aquí sobrescribimos el DataFrame original con una copia filtrada, eliminando los registros con edad 0\n",
    "df = df[df['edad_'] > 0].copy()\n"
   ]
  },
  {
   "cell_type": "code",
   "execution_count": 32,
   "id": "eb848092",
   "metadata": {},
   "outputs": [
    {
     "name": "stdout",
     "output_type": "stream",
     "text": [
      "Moda de Edad: 0    26\n",
      "Name: edad_, dtype: int64\n"
     ]
    },
    {
     "data": {
      "image/png": "[encoded data removed]",
      "text/plain": [
       "<Figure size 640x480 with 1 Axes>"
      ]
     },
     "metadata": {},
     "output_type": "display_data"
    }
   ],
   "source": [
    "fig , ax = plt.subplots()\n",
    "ax.hist(df['edad_'], bins=20, color='skyblue', edgecolor='black', rwidth=0.9)\n",
    "ax.set_title('Distribucion (Edades)')\n",
    "ax.set_xlabel('Rango de Edades')\n",
    "\n",
    "\n",
    "# Sacar la edad que mas se repite.\n",
    "df_moda = df['edad_'].mode()\n",
    "print(f'Moda de Edad: {df_moda}')"
   ]
  },
  {
   "cell_type": "markdown",
   "id": "078cc293",
   "metadata": {},
   "source": [
    "En la grafica, se observa que la mayor cantidad de contagios se concentra en el grupo de edad entre **25 y 40 años**. Además, el valor más frecuente **(moda)** en la variable edad es **26**, lo que indica que esta edad específica presenta el mayor número de casos."
   ]
  },
  {
   "cell_type": "code",
   "execution_count": null,
   "id": "b75c14df",
   "metadata": {},
   "outputs": [
    {
     "data": {
      "text/html": [
       "<div>\n",
       "<style scoped>\n",
       "    .dataframe tbody tr th:only-of-type {\n",
       "        vertical-align: middle;\n",
       "    }\n",
       "\n",
       "    .dataframe tbody tr th {\n",
       "        vertical-align: top;\n",
       "    }\n",
       "\n",
       "    .dataframe thead th {\n",
       "        text-align: right;\n",
       "    }\n",
       "</style>\n",
       "<table border=\"1\" class=\"dataframe\">\n",
       "  <thead>\n",
       "    <tr style=\"text-align: right;\">\n",
       "      <th></th>\n",
       "      <th>fec_not</th>\n",
       "      <th>semana</th>\n",
       "      <th>año</th>\n",
       "      <th>edad_</th>\n",
       "      <th>uni_med_</th>\n",
       "      <th>unidedad</th>\n",
       "      <th>grupo_etario</th>\n",
       "      <th>ciclo_de_vida</th>\n",
       "      <th>sexo_</th>\n",
       "      <th>bar_ver_</th>\n",
       "      <th>comuna</th>\n",
       "      <th>tip_ss_</th>\n",
       "      <th>nombre eps</th>\n",
       "      <th>serv_hosp</th>\n",
       "      <th>desc_serv_hosp</th>\n",
       "      <th>orden</th>\n",
       "    </tr>\n",
       "  </thead>\n",
       "  <tbody>\n",
       "  </tbody>\n",
       "</table>\n",
       "</div>"
      ],
      "text/plain": [
       "Empty DataFrame\n",
       "Columns: [fec_not, semana, año, edad_, uni_med_, unidedad, grupo_etario, ciclo_de_vida, sexo_, bar_ver_, comuna, tip_ss_, nombre eps, serv_hosp, desc_serv_hosp, orden]\n",
       "Index: []"
      ]
     },
     "execution_count": 33,
     "metadata": {},
     "output_type": "execute_result"
    }
   ],
   "source": [
    "# con esto confirmamos que ya no hay registros con la edad 0, y que el filtro si funciono.\n",
    "df_edad = df[df['edad_'] == 0]\n"
   ]
  },
  {
   "cell_type": "markdown",
   "id": "58032fb5",
   "metadata": {},
   "source": []
  },
  {
   "cell_type": "code",
   "execution_count": null,
   "id": "71279d3c",
   "metadata": {},
   "outputs": [
    {
     "data": {
      "text/plain": [
       "ciclo_de_vida\n",
       "ADOLESCENCIA         5074\n",
       "ADULTEZ             78382\n",
       "INFANCIA             2565\n",
       "JOVENES             29490\n",
       "PERSONA MAYOR       23948\n",
       "PRIMERA INFANCIA     1947\n",
       "Name: ciclo_de_vida, dtype: int64"
      ]
     },
     "execution_count": 37,
     "metadata": {},
     "output_type": "execute_result"
    }
   ],
   "source": []
  },
  {
   "cell_type": "code",
   "execution_count": null,
   "id": "b4fbf72e",
   "metadata": {},
   "outputs": [],
   "source": []
  }
 ],
 "metadata": {
  "kernelspec": {
   "display_name": ".venv",
   "language": "python",
   "name": "python3"
  },
  "language_info": {
   "codemirror_mode": {
    "name": "ipython",
    "version": 3
   },
   "file_extension": ".py",
   "mimetype": "text/x-python",
   "name": "python",
   "nbconvert_exporter": "python",
   "pygments_lexer": "ipython3",
   "version": "3.12.3"
  }
 },
 "nbformat": 4,
 "nbformat_minor": 5
}
